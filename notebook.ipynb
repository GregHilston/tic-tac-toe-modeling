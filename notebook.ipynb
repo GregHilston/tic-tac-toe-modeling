{
 "cells": [
  {
   "cell_type": "code",
   "execution_count": 1,
   "metadata": {},
   "outputs": [],
   "source": [
    "%matplotlib inline"
   ]
  },
  {
   "cell_type": "code",
   "execution_count": 62,
   "metadata": {},
   "outputs": [],
   "source": [
    "import pandas as pd\n",
    "from enum import Enum\n",
    "from interface import implements, Interface\n",
    "import random"
   ]
  },
  {
   "cell_type": "code",
   "execution_count": 3,
   "metadata": {},
   "outputs": [],
   "source": [
    "df = pd.read_csv(\"train.csv\")"
   ]
  },
  {
   "cell_type": "code",
   "execution_count": 4,
   "metadata": {},
   "outputs": [
    {
     "name": "stdout",
     "output_type": "stream",
     "text": [
      "<class 'pandas.core.frame.DataFrame'>\n",
      "RangeIndex: 9 entries, 0 to 8\n",
      "Data columns (total 11 columns):\n",
      "index_0       9 non-null object\n",
      "index_1       9 non-null object\n",
      "index_2       9 non-null object\n",
      "index_3       9 non-null object\n",
      "index_4       9 non-null object\n",
      "index_5       9 non-null object\n",
      "index_6       9 non-null object\n",
      "index_7       9 non-null object\n",
      "Index_8       9 non-null object\n",
      "whose_turn    9 non-null object\n",
      "move          9 non-null int64\n",
      "dtypes: int64(1), object(10)\n",
      "memory usage: 872.0+ bytes\n"
     ]
    }
   ],
   "source": [
    "df.info()"
   ]
  },
  {
   "cell_type": "code",
   "execution_count": 5,
   "metadata": {},
   "outputs": [
    {
     "data": {
      "text/html": [
       "<div>\n",
       "<style scoped>\n",
       "    .dataframe tbody tr th:only-of-type {\n",
       "        vertical-align: middle;\n",
       "    }\n",
       "\n",
       "    .dataframe tbody tr th {\n",
       "        vertical-align: top;\n",
       "    }\n",
       "\n",
       "    .dataframe thead th {\n",
       "        text-align: right;\n",
       "    }\n",
       "</style>\n",
       "<table border=\"1\" class=\"dataframe\">\n",
       "  <thead>\n",
       "    <tr style=\"text-align: right;\">\n",
       "      <th></th>\n",
       "      <th>index_0</th>\n",
       "      <th>index_1</th>\n",
       "      <th>index_2</th>\n",
       "      <th>index_3</th>\n",
       "      <th>index_4</th>\n",
       "      <th>index_5</th>\n",
       "      <th>index_6</th>\n",
       "      <th>index_7</th>\n",
       "      <th>Index_8</th>\n",
       "      <th>whose_turn</th>\n",
       "      <th>move</th>\n",
       "    </tr>\n",
       "  </thead>\n",
       "  <tbody>\n",
       "    <tr>\n",
       "      <th>0</th>\n",
       "      <td>_</td>\n",
       "      <td>_</td>\n",
       "      <td>_</td>\n",
       "      <td>_</td>\n",
       "      <td>_</td>\n",
       "      <td>_</td>\n",
       "      <td>_</td>\n",
       "      <td>_</td>\n",
       "      <td>_</td>\n",
       "      <td>x</td>\n",
       "      <td>0</td>\n",
       "    </tr>\n",
       "    <tr>\n",
       "      <th>1</th>\n",
       "      <td>x</td>\n",
       "      <td>_</td>\n",
       "      <td>_</td>\n",
       "      <td>_</td>\n",
       "      <td>_</td>\n",
       "      <td>_</td>\n",
       "      <td>_</td>\n",
       "      <td>_</td>\n",
       "      <td>_</td>\n",
       "      <td>o</td>\n",
       "      <td>4</td>\n",
       "    </tr>\n",
       "    <tr>\n",
       "      <th>2</th>\n",
       "      <td>x</td>\n",
       "      <td>_</td>\n",
       "      <td>_</td>\n",
       "      <td>_</td>\n",
       "      <td>o</td>\n",
       "      <td>_</td>\n",
       "      <td>_</td>\n",
       "      <td>_</td>\n",
       "      <td>_</td>\n",
       "      <td>x</td>\n",
       "      <td>6</td>\n",
       "    </tr>\n",
       "    <tr>\n",
       "      <th>3</th>\n",
       "      <td>x</td>\n",
       "      <td>_</td>\n",
       "      <td>_</td>\n",
       "      <td>_</td>\n",
       "      <td>o</td>\n",
       "      <td>_</td>\n",
       "      <td>x</td>\n",
       "      <td>_</td>\n",
       "      <td>_</td>\n",
       "      <td>o</td>\n",
       "      <td>3</td>\n",
       "    </tr>\n",
       "    <tr>\n",
       "      <th>4</th>\n",
       "      <td>x</td>\n",
       "      <td>_</td>\n",
       "      <td>_</td>\n",
       "      <td>o</td>\n",
       "      <td>o</td>\n",
       "      <td>_</td>\n",
       "      <td>x</td>\n",
       "      <td>_</td>\n",
       "      <td>_</td>\n",
       "      <td>x</td>\n",
       "      <td>5</td>\n",
       "    </tr>\n",
       "  </tbody>\n",
       "</table>\n",
       "</div>"
      ],
      "text/plain": [
       "  index_0 index_1 index_2 index_3 index_4 index_5 index_6 index_7 Index_8  \\\n",
       "0       _       _       _       _       _       _       _       _       _   \n",
       "1       x       _       _       _       _       _       _       _       _   \n",
       "2       x       _       _       _       o       _       _       _       _   \n",
       "3       x       _       _       _       o       _       x       _       _   \n",
       "4       x       _       _       o       o       _       x       _       _   \n",
       "\n",
       "  whose_turn  move  \n",
       "0          x     0  \n",
       "1          o     4  \n",
       "2          x     6  \n",
       "3          o     3  \n",
       "4          x     5  "
      ]
     },
     "execution_count": 5,
     "metadata": {},
     "output_type": "execute_result"
    }
   ],
   "source": [
    "df.head()"
   ]
  },
  {
   "cell_type": "code",
   "execution_count": 249,
   "metadata": {},
   "outputs": [],
   "source": [
    "class Space(Enum):\n",
    "    \"\"\"Represents a single space by a player or an empty spot\n",
    "\n",
    "    \"\"\"\n",
    "    def __str__(self):\n",
    "        if self.value == 1:\n",
    "            return '_'\n",
    "        elif self.value == 2:\n",
    "            return 'x'\n",
    "        elif self.value == 3:\n",
    "            return 'o'\n",
    "        else:\n",
    "            return '?'\n",
    "\n",
    "    EMPTY = 1\n",
    "    X = 2\n",
    "    O = 3"
   ]
  },
  {
   "cell_type": "code",
   "execution_count": 250,
   "metadata": {},
   "outputs": [],
   "source": [
    "class Move():\n",
    "    \"\"\"Represents a single attempted move by a player\n",
    "    \n",
    "    \"\"\"\n",
    "    def __init__(self, space: Space, index: int):\n",
    "            self.space = space\n",
    "            self.index = index\n",
    "            \n",
    "    def __repr__(self):\n",
    "        return f\"Player {self.space} attempted to move at index {self.index}\""
   ]
  },
  {
   "cell_type": "code",
   "execution_count": 251,
   "metadata": {},
   "outputs": [],
   "source": [
    "class PlayerStrategy(Interface):\n",
    "    \"\"\"Defines a purely random strategy\n",
    "    \n",
    "    \"\"\"\n",
    "    def __init__(self, space: Space):\n",
    "        pass\n",
    "\n",
    "    def query_move(self, board: Board) -> Move:\n",
    "        pass"
   ]
  },
  {
   "cell_type": "code",
   "execution_count": 252,
   "metadata": {},
   "outputs": [],
   "source": [
    "class HumanPlayerStrategy(implements(PlayerStrategy)):\n",
    "    \"\"\"Defines a purely random strategy\n",
    "    \n",
    "    \"\"\"\n",
    "    def __init__(self, space: Space):\n",
    "        self.space = space\n",
    "\n",
    "    def query_move(self, board: Board) -> Move:\n",
    "        print(\"Your move, current board:\")\n",
    "        print(board.__repr__())\n",
    "        print(f\"Place a {self.space} at index[0-8]:\")\n",
    "        valid_input = False\n",
    "        \n",
    "        while not valid_input:\n",
    "            try:\n",
    "                user_input = input()\n",
    "                index = int(user_input)\n",
    "                if index < 0 or index > 8:\n",
    "                    print(f\"You entered an invalid index {user_input}, please enter one between [0-8]\")\n",
    "                else:\n",
    "                    valid_input = True\n",
    "            except:\n",
    "                print(f\"You entered an invalid index {user_input}, please enter one between [0-8]\")\n",
    "              \n",
    "        print(f\"you entered {index}\")\n",
    "              \n",
    "        return Move(self.space, index)"
   ]
  },
  {
   "cell_type": "code",
   "execution_count": 253,
   "metadata": {},
   "outputs": [],
   "source": [
    "class RandomPlayerStrategy(implements(PlayerStrategy)):\n",
    "    \"\"\"Defines a purely random strategy\n",
    "    \n",
    "    \"\"\"\n",
    "    def __init__(self, space: Space):\n",
    "        self.space = space\n",
    "\n",
    "    def query_move(self, board: Board) -> Move:\n",
    "        return Move(self.space, random.randint(0, 8)) # hardcoded 9 here, its fine"
   ]
  },
  {
   "cell_type": "code",
   "execution_count": 254,
   "metadata": {},
   "outputs": [],
   "source": [
    "class Board:\n",
    "    \"\"\"Represents as tic tac toe board\n",
    "    0 1 2\n",
    "    3 4 5\n",
    "    6 7 8\n",
    "    \n",
    "    \"\"\"\n",
    "    \n",
    "    class MoveAlreadyTakenException(Exception):\n",
    "        \"\"\"Represents an exception when an already made move was attempted\n",
    "        again.\n",
    "        \n",
    "        \"\"\"\n",
    "        pass\n",
    "\n",
    "    def __init__(self, player_x: PlayerStrategy, player_o: PlayerStrategy):\n",
    "        self.player_x = player_x\n",
    "        self.player_o = player_o\n",
    "        self.board = [\n",
    "            Space.EMPTY, Space.EMPTY, Space.EMPTY,\n",
    "            Space.EMPTY, Space.EMPTY, Space.EMPTY,\n",
    "            Space.EMPTY, Space.EMPTY, Space.EMPTY\n",
    "        ]\n",
    "    \n",
    "    def _attempt_move(self, move: Move):\n",
    "        \"\"\"Attemts to perform a single move\n",
    "        \n",
    "        \"\"\"\n",
    "        \n",
    "        if self.board[move.index] != Space.EMPTY:\n",
    "            raise Board.MoveAlreadyTakenException()\n",
    "            \n",
    "        self.board[move.index] = move.space\n",
    "            \n",
    "    def _get_winner(self):\n",
    "        \"\"\"Determining who has won. \n",
    "        Bad code ahead!\n",
    "        \n",
    "        \"\"\"\n",
    "        def _set_contain_winner(set_to_check):\n",
    "            \"\"\"Checks if this set (horizontal, vertical or diagnol) is a winner\n",
    "            \n",
    "            \"\"\"\n",
    "            if Space.EMPTY not in set_to_check and len(set_to_check) == 1:\n",
    "                return True\n",
    "            return False\n",
    "        \n",
    "        horizontals = []\n",
    "        verticals = []\n",
    "        diagnols = []\n",
    "        \n",
    "        horizontals.append(set([self.board[0], self.board[1], self.board[2]]))            \n",
    "        horizontals.append(set([self.board[3], self.board[4], self.board[5]]))            \n",
    "        horizontals.append(set([self.board[6], self.board[7], self.board[8]]))         \n",
    "        \n",
    "        verticals.append(set([self.board[0], self.board[3], self.board[6]]))            \n",
    "        verticals.append(set([self.board[1], self.board[5], self.board[7]]))            \n",
    "        verticals.append(set([self.board[2], self.board[5], self.board[8]]))   \n",
    "        \n",
    "        diagnols.append(set([self.board[0], self.board[4], self.board[8]]))            \n",
    "        diagnols.append(set([self.board[2], self.board[4], self.board[6]]))  \n",
    "        \n",
    "        for horizontal in horizontals:\n",
    "            if(_set_contain_winner(horizontal)):\n",
    "                return horizontal.pop() # just to get to element, set is useless now anyways\n",
    "            \n",
    "        for vertical in verticals:\n",
    "            if(_set_contain_winner(vertical)):\n",
    "                return vertical.pop() # just to get to element, set is useless now anyways\n",
    "            \n",
    "        for diagnol in diagnols:\n",
    "            if(_set_contain_winner(diagnol)):\n",
    "                return diagnol.pop() # just to get to element, set is useless now anyways\n",
    "        \n",
    "    def _has_at_least_one_empty_space(self):\n",
    "        for i in range(len(self.board)):\n",
    "            if self.board[i] == Space.EMPTY:\n",
    "                return True\n",
    "        return False\n",
    "        \n",
    "    def start(self):\n",
    "        \"\"\"Starts the game\n",
    "        \n",
    "        \"\"\"\n",
    "        is_player_x_turn = True\n",
    "        while (self._get_winner() == None) and (self._has_at_least_one_empty_space()):\n",
    "            if is_player_x_turn:\n",
    "                attempted_move = self.player_x.query_move(self.board)\n",
    "            else:\n",
    "                attempted_move = self.player_o.query_move(self.board)\n",
    "\n",
    "            print(attempted_move)\n",
    "\n",
    "            try:\n",
    "                self._attempt_move(attempted_move)\n",
    "                is_player_x_turn = not is_player_x_turn\n",
    "            except Board.MoveAlreadyTakenException:\n",
    "                print(f\"\\tmove failed, already taken\")\n",
    "        \n",
    "        print(self)\n",
    "        print(f\"{self._get_winner()} has won!\")\n",
    "            \n",
    "    def __repr__(self):\n",
    "        output = \"\"\n",
    "        \n",
    "        for i in range(len(self.board)):\n",
    "            output += str(self.board[i])\n",
    "            output += ' '\n",
    "            \n",
    "            # prints new lines at end of rows\n",
    "            if (i!= 0) and (((i + 1) % 3) == 0):\n",
    "                output += '\\n'\n",
    "        \n",
    "        return output"
   ]
  },
  {
   "cell_type": "code",
   "execution_count": 255,
   "metadata": {},
   "outputs": [
    {
     "name": "stdout",
     "output_type": "stream",
     "text": [
      "Your move, current board:\n",
      "[<Space.EMPTY: 1>, <Space.EMPTY: 1>, <Space.EMPTY: 1>, <Space.EMPTY: 1>, <Space.EMPTY: 1>, <Space.EMPTY: 1>, <Space.EMPTY: 1>, <Space.EMPTY: 1>, <Space.EMPTY: 1>]\n",
      "Place a x at index[0-8]:\n"
     ]
    },
    {
     "name": "stdin",
     "output_type": "stream",
     "text": [
      " \n"
     ]
    },
    {
     "name": "stdout",
     "output_type": "stream",
     "text": [
      "You entered an invalid index , please enter one between [0-8]\n"
     ]
    },
    {
     "name": "stdin",
     "output_type": "stream",
     "text": [
      " d\n"
     ]
    },
    {
     "name": "stdout",
     "output_type": "stream",
     "text": [
      "You entered an invalid index d, please enter one between [0-8]\n"
     ]
    },
    {
     "name": "stdin",
     "output_type": "stream",
     "text": [
      " d\n"
     ]
    },
    {
     "name": "stdout",
     "output_type": "stream",
     "text": [
      "You entered an invalid index d, please enter one between [0-8]\n"
     ]
    },
    {
     "name": "stdin",
     "output_type": "stream",
     "text": [
      " 9\n"
     ]
    },
    {
     "name": "stdout",
     "output_type": "stream",
     "text": [
      "You entered an invalid index 9, please enter one between [0-8]\n"
     ]
    },
    {
     "name": "stdin",
     "output_type": "stream",
     "text": [
      " 8\n"
     ]
    },
    {
     "name": "stdout",
     "output_type": "stream",
     "text": [
      "you entered 8\n",
      "Player x attempted to move at index 8\n",
      "Player o attempted to move at index 7\n",
      "Your move, current board:\n",
      "[<Space.EMPTY: 1>, <Space.EMPTY: 1>, <Space.EMPTY: 1>, <Space.EMPTY: 1>, <Space.EMPTY: 1>, <Space.EMPTY: 1>, <Space.EMPTY: 1>, <Space.O: 3>, <Space.X: 2>]\n",
      "Place a x at index[0-8]:\n"
     ]
    },
    {
     "ename": "UnboundLocalError",
     "evalue": "local variable 'user_input' referenced before assignment",
     "output_type": "error",
     "traceback": [
      "\u001b[0;31m---------------------------------------------------------------------------\u001b[0m",
      "\u001b[0;31mKeyboardInterrupt\u001b[0m                         Traceback (most recent call last)",
      "\u001b[0;32m~/Git/tic-tac-toe-model/venv/lib/python3.7/site-packages/ipykernel/kernelbase.py\u001b[0m in \u001b[0;36m_input_request\u001b[0;34m(self, prompt, ident, parent, password)\u001b[0m\n\u001b[1;32m    877\u001b[0m             \u001b[0;32mtry\u001b[0m\u001b[0;34m:\u001b[0m\u001b[0;34m\u001b[0m\u001b[0;34m\u001b[0m\u001b[0m\n\u001b[0;32m--> 878\u001b[0;31m                 \u001b[0mident\u001b[0m\u001b[0;34m,\u001b[0m \u001b[0mreply\u001b[0m \u001b[0;34m=\u001b[0m \u001b[0mself\u001b[0m\u001b[0;34m.\u001b[0m\u001b[0msession\u001b[0m\u001b[0;34m.\u001b[0m\u001b[0mrecv\u001b[0m\u001b[0;34m(\u001b[0m\u001b[0mself\u001b[0m\u001b[0;34m.\u001b[0m\u001b[0mstdin_socket\u001b[0m\u001b[0;34m,\u001b[0m \u001b[0;36m0\u001b[0m\u001b[0;34m)\u001b[0m\u001b[0;34m\u001b[0m\u001b[0;34m\u001b[0m\u001b[0m\n\u001b[0m\u001b[1;32m    879\u001b[0m             \u001b[0;32mexcept\u001b[0m \u001b[0mException\u001b[0m\u001b[0;34m:\u001b[0m\u001b[0;34m\u001b[0m\u001b[0;34m\u001b[0m\u001b[0m\n",
      "\u001b[0;32m~/Git/tic-tac-toe-model/venv/lib/python3.7/site-packages/jupyter_client/session.py\u001b[0m in \u001b[0;36mrecv\u001b[0;34m(self, socket, mode, content, copy)\u001b[0m\n\u001b[1;32m    802\u001b[0m         \u001b[0;32mtry\u001b[0m\u001b[0;34m:\u001b[0m\u001b[0;34m\u001b[0m\u001b[0;34m\u001b[0m\u001b[0m\n\u001b[0;32m--> 803\u001b[0;31m             \u001b[0mmsg_list\u001b[0m \u001b[0;34m=\u001b[0m \u001b[0msocket\u001b[0m\u001b[0;34m.\u001b[0m\u001b[0mrecv_multipart\u001b[0m\u001b[0;34m(\u001b[0m\u001b[0mmode\u001b[0m\u001b[0;34m,\u001b[0m \u001b[0mcopy\u001b[0m\u001b[0;34m=\u001b[0m\u001b[0mcopy\u001b[0m\u001b[0;34m)\u001b[0m\u001b[0;34m\u001b[0m\u001b[0;34m\u001b[0m\u001b[0m\n\u001b[0m\u001b[1;32m    804\u001b[0m         \u001b[0;32mexcept\u001b[0m \u001b[0mzmq\u001b[0m\u001b[0;34m.\u001b[0m\u001b[0mZMQError\u001b[0m \u001b[0;32mas\u001b[0m \u001b[0me\u001b[0m\u001b[0;34m:\u001b[0m\u001b[0;34m\u001b[0m\u001b[0;34m\u001b[0m\u001b[0m\n",
      "\u001b[0;32m~/Git/tic-tac-toe-model/venv/lib/python3.7/site-packages/zmq/sugar/socket.py\u001b[0m in \u001b[0;36mrecv_multipart\u001b[0;34m(self, flags, copy, track)\u001b[0m\n\u001b[1;32m    469\u001b[0m         \"\"\"\n\u001b[0;32m--> 470\u001b[0;31m         \u001b[0mparts\u001b[0m \u001b[0;34m=\u001b[0m \u001b[0;34m[\u001b[0m\u001b[0mself\u001b[0m\u001b[0;34m.\u001b[0m\u001b[0mrecv\u001b[0m\u001b[0;34m(\u001b[0m\u001b[0mflags\u001b[0m\u001b[0;34m,\u001b[0m \u001b[0mcopy\u001b[0m\u001b[0;34m=\u001b[0m\u001b[0mcopy\u001b[0m\u001b[0;34m,\u001b[0m \u001b[0mtrack\u001b[0m\u001b[0;34m=\u001b[0m\u001b[0mtrack\u001b[0m\u001b[0;34m)\u001b[0m\u001b[0;34m]\u001b[0m\u001b[0;34m\u001b[0m\u001b[0;34m\u001b[0m\u001b[0m\n\u001b[0m\u001b[1;32m    471\u001b[0m         \u001b[0;31m# have first part already, only loop while more to receive\u001b[0m\u001b[0;34m\u001b[0m\u001b[0;34m\u001b[0m\u001b[0;34m\u001b[0m\u001b[0m\n",
      "\u001b[0;32mzmq/backend/cython/socket.pyx\u001b[0m in \u001b[0;36mzmq.backend.cython.socket.Socket.recv\u001b[0;34m()\u001b[0m\n",
      "\u001b[0;32mzmq/backend/cython/socket.pyx\u001b[0m in \u001b[0;36mzmq.backend.cython.socket.Socket.recv\u001b[0;34m()\u001b[0m\n",
      "\u001b[0;32mzmq/backend/cython/socket.pyx\u001b[0m in \u001b[0;36mzmq.backend.cython.socket._recv_copy\u001b[0;34m()\u001b[0m\n",
      "\u001b[0;32m~/Git/tic-tac-toe-model/venv/lib/python3.7/site-packages/zmq/backend/cython/checkrc.pxd\u001b[0m in \u001b[0;36mzmq.backend.cython.checkrc._check_rc\u001b[0;34m()\u001b[0m\n",
      "\u001b[0;31mKeyboardInterrupt\u001b[0m: ",
      "\nDuring handling of the above exception, another exception occurred:\n",
      "\u001b[0;31mKeyboardInterrupt\u001b[0m                         Traceback (most recent call last)",
      "\u001b[0;32m<ipython-input-252-bdc7c4ee6f14>\u001b[0m in \u001b[0;36mquery_move\u001b[0;34m(self, board)\u001b[0m\n\u001b[1;32m     15\u001b[0m             \u001b[0;32mtry\u001b[0m\u001b[0;34m:\u001b[0m\u001b[0;34m\u001b[0m\u001b[0;34m\u001b[0m\u001b[0m\n\u001b[0;32m---> 16\u001b[0;31m                 \u001b[0muser_input\u001b[0m \u001b[0;34m=\u001b[0m \u001b[0minput\u001b[0m\u001b[0;34m(\u001b[0m\u001b[0;34m)\u001b[0m\u001b[0;34m\u001b[0m\u001b[0;34m\u001b[0m\u001b[0m\n\u001b[0m\u001b[1;32m     17\u001b[0m                 \u001b[0mindex\u001b[0m \u001b[0;34m=\u001b[0m \u001b[0mint\u001b[0m\u001b[0;34m(\u001b[0m\u001b[0muser_input\u001b[0m\u001b[0;34m)\u001b[0m\u001b[0;34m\u001b[0m\u001b[0;34m\u001b[0m\u001b[0m\n",
      "\u001b[0;32m~/Git/tic-tac-toe-model/venv/lib/python3.7/site-packages/ipykernel/kernelbase.py\u001b[0m in \u001b[0;36mraw_input\u001b[0;34m(self, prompt)\u001b[0m\n\u001b[1;32m    852\u001b[0m             \u001b[0mself\u001b[0m\u001b[0;34m.\u001b[0m\u001b[0m_parent_header\u001b[0m\u001b[0;34m,\u001b[0m\u001b[0;34m\u001b[0m\u001b[0;34m\u001b[0m\u001b[0m\n\u001b[0;32m--> 853\u001b[0;31m             \u001b[0mpassword\u001b[0m\u001b[0;34m=\u001b[0m\u001b[0;32mFalse\u001b[0m\u001b[0;34m,\u001b[0m\u001b[0;34m\u001b[0m\u001b[0;34m\u001b[0m\u001b[0m\n\u001b[0m\u001b[1;32m    854\u001b[0m         )\n",
      "\u001b[0;32m~/Git/tic-tac-toe-model/venv/lib/python3.7/site-packages/ipykernel/kernelbase.py\u001b[0m in \u001b[0;36m_input_request\u001b[0;34m(self, prompt, ident, parent, password)\u001b[0m\n\u001b[1;32m    882\u001b[0m                 \u001b[0;31m# re-raise KeyboardInterrupt, to truncate traceback\u001b[0m\u001b[0;34m\u001b[0m\u001b[0;34m\u001b[0m\u001b[0;34m\u001b[0m\u001b[0m\n\u001b[0;32m--> 883\u001b[0;31m                 \u001b[0;32mraise\u001b[0m \u001b[0mKeyboardInterrupt\u001b[0m\u001b[0;34m\u001b[0m\u001b[0;34m\u001b[0m\u001b[0m\n\u001b[0m\u001b[1;32m    884\u001b[0m             \u001b[0;32melse\u001b[0m\u001b[0;34m:\u001b[0m\u001b[0;34m\u001b[0m\u001b[0;34m\u001b[0m\u001b[0m\n",
      "\u001b[0;31mKeyboardInterrupt\u001b[0m: ",
      "\nDuring handling of the above exception, another exception occurred:\n",
      "\u001b[0;31mUnboundLocalError\u001b[0m                         Traceback (most recent call last)",
      "\u001b[0;32m<ipython-input-255-3e26d8e40ed8>\u001b[0m in \u001b[0;36m<module>\u001b[0;34m\u001b[0m\n\u001b[1;32m      1\u001b[0m \u001b[0mboard\u001b[0m \u001b[0;34m=\u001b[0m \u001b[0mBoard\u001b[0m\u001b[0;34m(\u001b[0m\u001b[0mHumanPlayerStrategy\u001b[0m\u001b[0;34m(\u001b[0m\u001b[0mSpace\u001b[0m\u001b[0;34m.\u001b[0m\u001b[0mX\u001b[0m\u001b[0;34m)\u001b[0m\u001b[0;34m,\u001b[0m \u001b[0mRandomPlayerStrategy\u001b[0m\u001b[0;34m(\u001b[0m\u001b[0mSpace\u001b[0m\u001b[0;34m.\u001b[0m\u001b[0mO\u001b[0m\u001b[0;34m)\u001b[0m\u001b[0;34m)\u001b[0m\u001b[0;34m\u001b[0m\u001b[0;34m\u001b[0m\u001b[0m\n\u001b[0;32m----> 2\u001b[0;31m \u001b[0mboard\u001b[0m\u001b[0;34m.\u001b[0m\u001b[0mstart\u001b[0m\u001b[0;34m(\u001b[0m\u001b[0;34m)\u001b[0m\u001b[0;34m\u001b[0m\u001b[0;34m\u001b[0m\u001b[0m\n\u001b[0m",
      "\u001b[0;32m<ipython-input-254-b11d82af3f15>\u001b[0m in \u001b[0;36mstart\u001b[0;34m(self)\u001b[0m\n\u001b[1;32m     86\u001b[0m         \u001b[0;32mwhile\u001b[0m \u001b[0;34m(\u001b[0m\u001b[0mself\u001b[0m\u001b[0;34m.\u001b[0m\u001b[0m_get_winner\u001b[0m\u001b[0;34m(\u001b[0m\u001b[0;34m)\u001b[0m \u001b[0;34m==\u001b[0m \u001b[0;32mNone\u001b[0m\u001b[0;34m)\u001b[0m \u001b[0;32mand\u001b[0m \u001b[0;34m(\u001b[0m\u001b[0mself\u001b[0m\u001b[0;34m.\u001b[0m\u001b[0m_has_at_least_one_empty_space\u001b[0m\u001b[0;34m(\u001b[0m\u001b[0;34m)\u001b[0m\u001b[0;34m)\u001b[0m\u001b[0;34m:\u001b[0m\u001b[0;34m\u001b[0m\u001b[0;34m\u001b[0m\u001b[0m\n\u001b[1;32m     87\u001b[0m             \u001b[0;32mif\u001b[0m \u001b[0mis_player_x_turn\u001b[0m\u001b[0;34m:\u001b[0m\u001b[0;34m\u001b[0m\u001b[0;34m\u001b[0m\u001b[0m\n\u001b[0;32m---> 88\u001b[0;31m                 \u001b[0mattempted_move\u001b[0m \u001b[0;34m=\u001b[0m \u001b[0mself\u001b[0m\u001b[0;34m.\u001b[0m\u001b[0mplayer_x\u001b[0m\u001b[0;34m.\u001b[0m\u001b[0mquery_move\u001b[0m\u001b[0;34m(\u001b[0m\u001b[0mself\u001b[0m\u001b[0;34m.\u001b[0m\u001b[0mboard\u001b[0m\u001b[0;34m)\u001b[0m\u001b[0;34m\u001b[0m\u001b[0;34m\u001b[0m\u001b[0m\n\u001b[0m\u001b[1;32m     89\u001b[0m             \u001b[0;32melse\u001b[0m\u001b[0;34m:\u001b[0m\u001b[0;34m\u001b[0m\u001b[0;34m\u001b[0m\u001b[0m\n\u001b[1;32m     90\u001b[0m                 \u001b[0mattempted_move\u001b[0m \u001b[0;34m=\u001b[0m \u001b[0mself\u001b[0m\u001b[0;34m.\u001b[0m\u001b[0mplayer_o\u001b[0m\u001b[0;34m.\u001b[0m\u001b[0mquery_move\u001b[0m\u001b[0;34m(\u001b[0m\u001b[0mself\u001b[0m\u001b[0;34m.\u001b[0m\u001b[0mboard\u001b[0m\u001b[0;34m)\u001b[0m\u001b[0;34m\u001b[0m\u001b[0;34m\u001b[0m\u001b[0m\n",
      "\u001b[0;32m<ipython-input-252-bdc7c4ee6f14>\u001b[0m in \u001b[0;36mquery_move\u001b[0;34m(self, board)\u001b[0m\n\u001b[1;32m     21\u001b[0m                     \u001b[0mvalid_input\u001b[0m \u001b[0;34m=\u001b[0m \u001b[0;32mTrue\u001b[0m\u001b[0;34m\u001b[0m\u001b[0;34m\u001b[0m\u001b[0m\n\u001b[1;32m     22\u001b[0m             \u001b[0;32mexcept\u001b[0m\u001b[0;34m:\u001b[0m\u001b[0;34m\u001b[0m\u001b[0;34m\u001b[0m\u001b[0m\n\u001b[0;32m---> 23\u001b[0;31m                 \u001b[0mprint\u001b[0m\u001b[0;34m(\u001b[0m\u001b[0;34mf\"You entered an invalid index {user_input}, please enter one between [0-8]\"\u001b[0m\u001b[0;34m)\u001b[0m\u001b[0;34m\u001b[0m\u001b[0;34m\u001b[0m\u001b[0m\n\u001b[0m\u001b[1;32m     24\u001b[0m \u001b[0;34m\u001b[0m\u001b[0m\n\u001b[1;32m     25\u001b[0m         \u001b[0mprint\u001b[0m\u001b[0;34m(\u001b[0m\u001b[0;34mf\"you entered {index}\"\u001b[0m\u001b[0;34m)\u001b[0m\u001b[0;34m\u001b[0m\u001b[0;34m\u001b[0m\u001b[0m\n",
      "\u001b[0;31mUnboundLocalError\u001b[0m: local variable 'user_input' referenced before assignment"
     ]
    }
   ],
   "source": [
    "board = Board(HumanPlayerStrategy(Space.X), RandomPlayerStrategy(Space.O))\n",
    "board.start()"
   ]
  },
  {
   "cell_type": "code",
   "execution_count": null,
   "metadata": {},
   "outputs": [],
   "source": []
  }
 ],
 "metadata": {
  "kernelspec": {
   "display_name": "tic_tac_toe_model",
   "language": "python",
   "name": "tic_tac_toe_model"
  },
  "language_info": {
   "codemirror_mode": {
    "name": "ipython",
    "version": 3
   },
   "file_extension": ".py",
   "mimetype": "text/x-python",
   "name": "python",
   "nbconvert_exporter": "python",
   "pygments_lexer": "ipython3",
   "version": "3.7.3"
  }
 },
 "nbformat": 4,
 "nbformat_minor": 2
}
